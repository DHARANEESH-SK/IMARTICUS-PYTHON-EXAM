{
 "cells": [
  {
   "cell_type": "code",
   "execution_count": 7,
   "id": "e09a5a31",
   "metadata": {},
   "outputs": [
    {
     "name": "stdout",
     "output_type": "stream",
     "text": [
      "['TRUE', 'FALSE', 'TRUE', 'TRUE', 'FALSE', 'FALSE']\n"
     ]
    }
   ],
   "source": [
    "lsbool=['True','FALse','tRUe','tRue','False','faLse']\n",
    "out=map(lambda x:x.upper(),lsbool)\n",
    "print(list(out))"
   ]
  },
  {
   "cell_type": "code",
   "execution_count": null,
   "id": "c8bf0c2d",
   "metadata": {},
   "outputs": [],
   "source": []
  }
 ],
 "metadata": {
  "kernelspec": {
   "display_name": "Python 3 (ipykernel)",
   "language": "python",
   "name": "python3"
  },
  "language_info": {
   "codemirror_mode": {
    "name": "ipython",
    "version": 3
   },
   "file_extension": ".py",
   "mimetype": "text/x-python",
   "name": "python",
   "nbconvert_exporter": "python",
   "pygments_lexer": "ipython3",
   "version": "3.9.7"
  }
 },
 "nbformat": 4,
 "nbformat_minor": 5
}
